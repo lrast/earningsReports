{
 "cells": [
  {
   "cell_type": "markdown",
   "id": "a0f8106d-66cd-4f7c-9801-77a437d61775",
   "metadata": {},
   "source": [
    "# Handling the dirtiness of the the data\n",
    "\n",
    "This is a scratch notebook for the data processing code\n",
    "\n",
    "\n",
    "Some things to handle:\n",
    "1) Muliple reports filed and amended\n",
    "\n",
    "\n",
    "\n",
    "Columns:  \n",
    "`AssetsCurrent` seems to have a lot of companies  \n",
    "`AccruedLiabilities` has very few  \n",
    "`Revenues`: some companies, interesting edge cases  \n"
   ]
  },
  {
   "cell_type": "markdown",
   "id": "fef4de4f-31c9-4867-a8de-721c50025b26",
   "metadata": {},
   "source": [
    "### Small notes about the data\n",
    "\n",
    "1) The 2023 FY results are (for the most part) not yet released. This is consistent with other years, where most form 10-K are released in the first quarter of the year. This particular data is, of course, released quarterly.\n"
   ]
  },
  {
   "cell_type": "code",
   "execution_count": 8,
   "id": "4c4aa557-6bdc-4bf8-b38b-2b5d78ea4ba5",
   "metadata": {},
   "outputs": [],
   "source": [
    "import matplotlib as mpl\n",
    "import matplotlib.pyplot as plt\n",
    "%matplotlib inline\n",
    "from IPython.core.pylabtools import figsize\n",
    "\n",
    "import seaborn as sns\n",
    "import plotly.express as px\n",
    "\n",
    "import numpy as np\n",
    "import pandas as pd\n",
    "import polars as pl\n",
    "import sqlite3\n",
    "\n",
    "import statsmodels.formula.api as smf"
   ]
  },
  {
   "cell_type": "code",
   "execution_count": 9,
   "id": "590a282a-413d-4fa5-af2e-c22bdf57b608",
   "metadata": {},
   "outputs": [],
   "source": [
    "%run fetch_data.py\n",
    "\n",
    "%run web_utilities.py"
   ]
  },
  {
   "cell_type": "code",
   "execution_count": null,
   "id": "e2c3d1c4-b978-4394-98f0-fa24fe9237ba",
   "metadata": {},
   "outputs": [],
   "source": []
  },
  {
   "cell_type": "markdown",
   "id": "d9ea942e-31be-4417-80ea-bbdb3def4f5b",
   "metadata": {},
   "source": [
    "## Sticking to 2022 for the moment"
   ]
  },
  {
   "cell_type": "code",
   "execution_count": 10,
   "id": "d4be268f-5db1-40dc-bcbe-972d9a649ceb",
   "metadata": {},
   "outputs": [],
   "source": [
    "con = sqlite3.connect('data/processed/all10k.db')"
   ]
  },
  {
   "cell_type": "markdown",
   "id": "36328ddf-87cf-4f18-ac65-0748fb72c0be",
   "metadata": {},
   "source": [
    "How many companies filed reports in 2022?"
   ]
  },
  {
   "cell_type": "code",
   "execution_count": 11,
   "id": "059ba361-0937-41cb-95d9-4783ad97d2c2",
   "metadata": {},
   "outputs": [
    {
     "data": {
      "text/plain": [
       "[(6279,)]"
      ]
     },
     "execution_count": 11,
     "metadata": {},
     "output_type": "execute_result"
    }
   ],
   "source": [
    "con.execute(\"\"\"SELECT COUNT(DISTINCT(cik)) FROM sub WHERE fy='2022';\"\"\").fetchall()"
   ]
  },
  {
   "cell_type": "code",
   "execution_count": 12,
   "id": "d1650598-a21f-4986-a756-bfb20925e821",
   "metadata": {},
   "outputs": [],
   "source": [
    "all_sub_22 = pd.read_sql_query(\"\"\"SELECT * FROM sub WHERE fy='2022';\"\"\", con)"
   ]
  },
  {
   "cell_type": "code",
   "execution_count": 13,
   "id": "6179a240-c842-4278-a85b-f95820ba4b0f",
   "metadata": {},
   "outputs": [
    {
     "data": {
      "text/plain": [
       "(6280, 36)"
      ]
     },
     "execution_count": 13,
     "metadata": {},
     "output_type": "execute_result"
    }
   ],
   "source": [
    "all_sub_22.shape"
   ]
  },
  {
   "cell_type": "markdown",
   "id": "717c6b74-4f37-420c-b4d2-8d829765a8d9",
   "metadata": {},
   "source": [
    "One duplicate: see analysis below"
   ]
  },
  {
   "cell_type": "code",
   "execution_count": null,
   "id": "900abc33-107f-4347-9f83-0a52346f2ed6",
   "metadata": {},
   "outputs": [],
   "source": []
  },
  {
   "cell_type": "code",
   "execution_count": null,
   "id": "319ac97f-7d8c-400f-81fe-c0c29a5a4c0d",
   "metadata": {},
   "outputs": [],
   "source": []
  },
  {
   "cell_type": "code",
   "execution_count": null,
   "id": "b866d802-f400-43f9-88b7-1066e940e685",
   "metadata": {},
   "outputs": [],
   "source": []
  },
  {
   "cell_type": "markdown",
   "id": "538cab6d-62b6-4bcd-b005-e8a269201b69",
   "metadata": {},
   "source": [
    "## What fields do I need?\n",
    "\n",
    "Possible fields:\n",
    "- EntityCommonStockSharesOutstanding: number of shares\n",
    "- EntityPublicFloat: market cap\n",
    "- CommonStockSharesAuthorized\n",
    "- CommonStockSharesOutstanding\n",
    "\n",
    "- EarningsPerShareBasic\n",
    "- EarningsPerShareDiluted\n",
    "\n",
    "- Assets\n",
    "- AssetsCurrent\n",
    "- LiabilitiesCurrent\n",
    "- Liabilities\n",
    "- LiabilitiesAndStockholdersEquity\n",
    "- StockholdersEquityIncludingPortionAttributableToNoncontrollingInterest\n",
    "\n",
    "(I think)\n",
    "Liabilities = LiabilitiesAndStockholdersEquity - StockholdersEquityIncludingPortionAttributableToNoncontrollingInterest\n",
    "\n",
    "\n",
    "- StockholdersEquity\n",
    "\n",
    "- Revenues (does not appear for MSFT)\n",
    "- CommonStockDividendsPerShareDeclared\n",
    "\n"
   ]
  },
  {
   "cell_type": "code",
   "execution_count": 15,
   "id": "67419829-1187-4987-b32c-d96eb5869597",
   "metadata": {},
   "outputs": [],
   "source": [
    "all_tags = con.execute(\"\"\"SELECT DISTINCT tag FROM tag;\"\"\").fetchall()"
   ]
  },
  {
   "cell_type": "code",
   "execution_count": 16,
   "id": "86cdd2a4-c91b-4357-83d4-dbed46c1d54c",
   "metadata": {},
   "outputs": [
    {
     "data": {
      "text/plain": [
       "571931"
      ]
     },
     "execution_count": 16,
     "metadata": {},
     "output_type": "execute_result"
    }
   ],
   "source": [
    "len(all_tags)"
   ]
  },
  {
   "cell_type": "code",
   "execution_count": 17,
   "id": "18e60519-b5ff-4003-80de-4af625eeabaf",
   "metadata": {},
   "outputs": [],
   "source": [
    "all_fields = con.execute(\"\"\"SELECT DISTINCT tag FROM num;\"\"\").fetchall()"
   ]
  },
  {
   "cell_type": "code",
   "execution_count": 18,
   "id": "4bc478ae-e1bd-4f3a-ab8e-39593a6dfffb",
   "metadata": {},
   "outputs": [
    {
     "data": {
      "text/plain": [
       "978805"
      ]
     },
     "execution_count": 18,
     "metadata": {},
     "output_type": "execute_result"
    }
   ],
   "source": [
    "len(all_fields)"
   ]
  },
  {
   "cell_type": "code",
   "execution_count": 25,
   "id": "56e9665e-0474-4a79-95d2-f9cf9bfc3f16",
   "metadata": {},
   "outputs": [],
   "source": [
    "all_fields_22 = con.execute(\"\"\"SELECT DISTINCT tag FROM num WHERE dyear = '2022';\"\"\").fetchall()"
   ]
  },
  {
   "cell_type": "code",
   "execution_count": 26,
   "id": "d5df0c4d-f94e-4ec1-b579-d0dc10c93904",
   "metadata": {},
   "outputs": [
    {
     "data": {
      "text/plain": [
       "179602"
      ]
     },
     "execution_count": 26,
     "metadata": {},
     "output_type": "execute_result"
    }
   ],
   "source": [
    "len(all_fields_22)"
   ]
  },
  {
   "cell_type": "code",
   "execution_count": null,
   "id": "a95eb006-21cd-4557-a9a8-8400b11a1c97",
   "metadata": {},
   "outputs": [],
   "source": []
  },
  {
   "cell_type": "code",
   "execution_count": null,
   "id": "426d7386-6814-43c5-a0b6-4a794e23acb8",
   "metadata": {},
   "outputs": [],
   "source": []
  },
  {
   "cell_type": "code",
   "execution_count": null,
   "id": "884bad45-5ec5-4ee2-8ff1-749f84ed5e8d",
   "metadata": {},
   "outputs": [],
   "source": []
  },
  {
   "cell_type": "code",
   "execution_count": null,
   "id": "76257f4b-5569-4f4f-b2ed-4451e6afaba5",
   "metadata": {},
   "outputs": [],
   "source": []
  },
  {
   "cell_type": "code",
   "execution_count": 25,
   "id": "d42adf9d-f21c-4188-81be-d336c06833ae",
   "metadata": {},
   "outputs": [],
   "source": [
    "from fetch_data import get_entries"
   ]
  },
  {
   "cell_type": "code",
   "execution_count": 27,
   "id": "c260c12b-c93d-4bea-9922-629f138ec335",
   "metadata": {},
   "outputs": [
    {
     "data": {
      "text/html": [
       "<div>\n",
       "<style scoped>\n",
       "    .dataframe tbody tr th:only-of-type {\n",
       "        vertical-align: middle;\n",
       "    }\n",
       "\n",
       "    .dataframe tbody tr th {\n",
       "        vertical-align: top;\n",
       "    }\n",
       "\n",
       "    .dataframe thead th {\n",
       "        text-align: right;\n",
       "    }\n",
       "</style>\n",
       "<table border=\"1\" class=\"dataframe\">\n",
       "  <thead>\n",
       "    <tr style=\"text-align: right;\">\n",
       "      <th></th>\n",
       "      <th>adsh</th>\n",
       "      <th>tag</th>\n",
       "      <th>data_year</th>\n",
       "      <th>version</th>\n",
       "      <th>coreg</th>\n",
       "      <th>qtrs</th>\n",
       "      <th>uom</th>\n",
       "      <th>value</th>\n",
       "      <th>footnote</th>\n",
       "      <th>cik</th>\n",
       "      <th>name</th>\n",
       "      <th>period_filed</th>\n",
       "      <th>prevrpt</th>\n",
       "      <th>instance</th>\n",
       "    </tr>\n",
       "  </thead>\n",
       "  <tbody>\n",
       "  </tbody>\n",
       "</table>\n",
       "</div>"
      ],
      "text/plain": [
       "Empty DataFrame\n",
       "Columns: [adsh, tag, data_year, version, coreg, qtrs, uom, value, footnote, cik, name, period_filed, prevrpt, instance]\n",
       "Index: []"
      ]
     },
     "execution_count": 27,
     "metadata": {},
     "output_type": "execute_result"
    }
   ],
   "source": [
    "get_entries(2022, ['CommonStockMember'])"
   ]
  },
  {
   "cell_type": "code",
   "execution_count": 41,
   "id": "8085beb1-d513-4e01-b627-e06f5d8c470a",
   "metadata": {},
   "outputs": [
    {
     "data": {
      "text/plain": [
       "'Common'"
      ]
     },
     "execution_count": 41,
     "metadata": {},
     "output_type": "execute_result"
    }
   ],
   "source": [
    "'CommonStockMember'"
   ]
  },
  {
   "cell_type": "code",
   "execution_count": null,
   "id": "de522183-7e92-496e-9d74-cfd8e7e3b944",
   "metadata": {},
   "outputs": [],
   "source": []
  },
  {
   "cell_type": "markdown",
   "id": "6811330d-1192-418d-b0d0-4452c7155f34",
   "metadata": {},
   "source": [
    "### To do:\n",
    "\n",
    "- Select all fields for a couple of examples to get a hand on what is available.\n"
   ]
  },
  {
   "cell_type": "code",
   "execution_count": null,
   "id": "0bf1a5fc-4d47-4c10-960a-48c58cef15e4",
   "metadata": {},
   "outputs": [],
   "source": []
  },
  {
   "cell_type": "code",
   "execution_count": null,
   "id": "60473e43-00b1-4ac7-acde-1e88e601ce8f",
   "metadata": {},
   "outputs": [],
   "source": []
  },
  {
   "cell_type": "code",
   "execution_count": null,
   "id": "fb52562c-3a6d-4955-839c-b86d43b898c5",
   "metadata": {},
   "outputs": [],
   "source": []
  },
  {
   "cell_type": "code",
   "execution_count": null,
   "id": "4efe6f1a-d742-42ab-a17c-50fa3b1ebeee",
   "metadata": {},
   "outputs": [],
   "source": []
  },
  {
   "cell_type": "markdown",
   "id": "296a90e2-d05a-4172-a224-bd843a7e662a",
   "metadata": {},
   "source": [
    "# Edge cases:\n",
    "\n",
    "I have a feeling that there will be a lot of edge cases with this data, so I'll document them here"
   ]
  },
  {
   "cell_type": "markdown",
   "id": "055c0cf8-7411-4874-8906-03ee5218a64b",
   "metadata": {},
   "source": [
    "### Multiple revenue values\n",
    "\n",
    "1. Note that the smaller values sum to the largest value, so this is some break down of revenues.\n",
    "2. However, this breakdown is not the same as that seen in the orginal document: https://www.sec.gov/ixviewer/ix.html?doc=/Archives/edgar/data/846475/000141057822000453/zyxi-20211231x10k.htm"
   ]
  },
  {
   "cell_type": "code",
   "execution_count": 38,
   "id": "a5239394-7c77-4ffc-a569-2845f34e5ab9",
   "metadata": {},
   "outputs": [
    {
     "data": {
      "text/html": [
       "<div>\n",
       "<style scoped>\n",
       "    .dataframe tbody tr th:only-of-type {\n",
       "        vertical-align: middle;\n",
       "    }\n",
       "\n",
       "    .dataframe tbody tr th {\n",
       "        vertical-align: top;\n",
       "    }\n",
       "\n",
       "    .dataframe thead th {\n",
       "        text-align: right;\n",
       "    }\n",
       "</style>\n",
       "<table border=\"1\" class=\"dataframe\">\n",
       "  <thead>\n",
       "    <tr style=\"text-align: right;\">\n",
       "      <th></th>\n",
       "      <th>adsh</th>\n",
       "      <th>tag</th>\n",
       "      <th>data_year</th>\n",
       "      <th>version</th>\n",
       "      <th>coreg</th>\n",
       "      <th>qtrs</th>\n",
       "      <th>uom</th>\n",
       "      <th>value</th>\n",
       "      <th>footnote</th>\n",
       "      <th>cik</th>\n",
       "      <th>name</th>\n",
       "      <th>period_filed</th>\n",
       "      <th>prevrpt</th>\n",
       "      <th>instance</th>\n",
       "    </tr>\n",
       "  </thead>\n",
       "  <tbody>\n",
       "    <tr>\n",
       "      <th>1830</th>\n",
       "      <td>0001410578-22-000453</td>\n",
       "      <td>Revenues</td>\n",
       "      <td>2021</td>\n",
       "      <td>us-gaap/2021</td>\n",
       "      <td>None</td>\n",
       "      <td>1</td>\n",
       "      <td>USD</td>\n",
       "      <td>24127000.0</td>\n",
       "      <td>None</td>\n",
       "      <td>846475</td>\n",
       "      <td>ZYNEX INC</td>\n",
       "      <td>2021-12-31</td>\n",
       "      <td>False</td>\n",
       "      <td>zyxi-20211231x10k_htm.xml</td>\n",
       "    </tr>\n",
       "    <tr>\n",
       "      <th>1831</th>\n",
       "      <td>0001410578-22-000453</td>\n",
       "      <td>Revenues</td>\n",
       "      <td>2021</td>\n",
       "      <td>us-gaap/2021</td>\n",
       "      <td>None</td>\n",
       "      <td>1</td>\n",
       "      <td>USD</td>\n",
       "      <td>31022000.0</td>\n",
       "      <td>None</td>\n",
       "      <td>846475</td>\n",
       "      <td>ZYNEX INC</td>\n",
       "      <td>2021-12-31</td>\n",
       "      <td>False</td>\n",
       "      <td>zyxi-20211231x10k_htm.xml</td>\n",
       "    </tr>\n",
       "    <tr>\n",
       "      <th>1832</th>\n",
       "      <td>0001410578-22-000453</td>\n",
       "      <td>Revenues</td>\n",
       "      <td>2021</td>\n",
       "      <td>us-gaap/2021</td>\n",
       "      <td>None</td>\n",
       "      <td>1</td>\n",
       "      <td>USD</td>\n",
       "      <td>34785000.0</td>\n",
       "      <td>None</td>\n",
       "      <td>846475</td>\n",
       "      <td>ZYNEX INC</td>\n",
       "      <td>2021-12-31</td>\n",
       "      <td>False</td>\n",
       "      <td>zyxi-20211231x10k_htm.xml</td>\n",
       "    </tr>\n",
       "    <tr>\n",
       "      <th>1833</th>\n",
       "      <td>0001410578-22-000453</td>\n",
       "      <td>Revenues</td>\n",
       "      <td>2021</td>\n",
       "      <td>us-gaap/2021</td>\n",
       "      <td>None</td>\n",
       "      <td>1</td>\n",
       "      <td>USD</td>\n",
       "      <td>40367000.0</td>\n",
       "      <td>None</td>\n",
       "      <td>846475</td>\n",
       "      <td>ZYNEX INC</td>\n",
       "      <td>2021-12-31</td>\n",
       "      <td>False</td>\n",
       "      <td>zyxi-20211231x10k_htm.xml</td>\n",
       "    </tr>\n",
       "    <tr>\n",
       "      <th>1834</th>\n",
       "      <td>0001410578-22-000453</td>\n",
       "      <td>Revenues</td>\n",
       "      <td>2021</td>\n",
       "      <td>us-gaap/2021</td>\n",
       "      <td>None</td>\n",
       "      <td>4</td>\n",
       "      <td>USD</td>\n",
       "      <td>130301000.0</td>\n",
       "      <td>None</td>\n",
       "      <td>846475</td>\n",
       "      <td>ZYNEX INC</td>\n",
       "      <td>2021-12-31</td>\n",
       "      <td>False</td>\n",
       "      <td>zyxi-20211231x10k_htm.xml</td>\n",
       "    </tr>\n",
       "  </tbody>\n",
       "</table>\n",
       "</div>"
      ],
      "text/plain": [
       "                      adsh       tag data_year       version coreg qtrs  uom  \\\n",
       "1830  0001410578-22-000453  Revenues      2021  us-gaap/2021  None    1  USD   \n",
       "1831  0001410578-22-000453  Revenues      2021  us-gaap/2021  None    1  USD   \n",
       "1832  0001410578-22-000453  Revenues      2021  us-gaap/2021  None    1  USD   \n",
       "1833  0001410578-22-000453  Revenues      2021  us-gaap/2021  None    1  USD   \n",
       "1834  0001410578-22-000453  Revenues      2021  us-gaap/2021  None    4  USD   \n",
       "\n",
       "            value footnote     cik       name period_filed  prevrpt  \\\n",
       "1830   24127000.0     None  846475  ZYNEX INC   2021-12-31    False   \n",
       "1831   31022000.0     None  846475  ZYNEX INC   2021-12-31    False   \n",
       "1832   34785000.0     None  846475  ZYNEX INC   2021-12-31    False   \n",
       "1833   40367000.0     None  846475  ZYNEX INC   2021-12-31    False   \n",
       "1834  130301000.0     None  846475  ZYNEX INC   2021-12-31    False   \n",
       "\n",
       "                       instance  \n",
       "1830  zyxi-20211231x10k_htm.xml  \n",
       "1831  zyxi-20211231x10k_htm.xml  \n",
       "1832  zyxi-20211231x10k_htm.xml  \n",
       "1833  zyxi-20211231x10k_htm.xml  \n",
       "1834  zyxi-20211231x10k_htm.xml  "
      ]
     },
     "execution_count": 38,
     "metadata": {},
     "output_type": "execute_result"
    }
   ],
   "source": [
    "data = get_entries(2021, ['Revenues'])\n",
    "\n",
    "data[data['name'] == 'ZYNEX INC']"
   ]
  },
  {
   "cell_type": "code",
   "execution_count": 24,
   "id": "26956404-ec5b-47fb-b53d-b27eb613fe4f",
   "metadata": {},
   "outputs": [
    {
     "data": {
      "text/plain": [
       "130301000.0"
      ]
     },
     "execution_count": 24,
     "metadata": {},
     "output_type": "execute_result"
    }
   ],
   "source": [
    "data[data['name'] == 'ZYNEX INC']['value'].sum() / 2"
   ]
  },
  {
   "cell_type": "markdown",
   "id": "79fa04ad-7e0e-4244-a675-469d2b11a6a9",
   "metadata": {},
   "source": [
    "In this case, the key distinguishing factor is qtrs, which is 4 for the total. (Note that not all fields will use qtrs = 4, see below, for example, where qtrs = 0)"
   ]
  },
  {
   "cell_type": "code",
   "execution_count": null,
   "id": "04c32b48-54b9-45f6-933d-cf5db889500b",
   "metadata": {},
   "outputs": [],
   "source": []
  },
  {
   "cell_type": "markdown",
   "id": "667cc2ca-c1fc-4d45-87dc-04bdb118267f",
   "metadata": {},
   "source": [
    "### Multiple current assets\n",
    "\n",
    "In this case, there are multiple subsidiaries. The balances seem right for each subsidiary and for the company as a whole.\n",
    "\n",
    "Here, `coreg` None signifies the correct field."
   ]
  },
  {
   "cell_type": "code",
   "execution_count": 37,
   "id": "1e326c28-5d6e-4458-8446-de42ad55e555",
   "metadata": {},
   "outputs": [
    {
     "data": {
      "text/html": [
       "<div>\n",
       "<style scoped>\n",
       "    .dataframe tbody tr th:only-of-type {\n",
       "        vertical-align: middle;\n",
       "    }\n",
       "\n",
       "    .dataframe tbody tr th {\n",
       "        vertical-align: top;\n",
       "    }\n",
       "\n",
       "    .dataframe thead th {\n",
       "        text-align: right;\n",
       "    }\n",
       "</style>\n",
       "<table border=\"1\" class=\"dataframe\">\n",
       "  <thead>\n",
       "    <tr style=\"text-align: right;\">\n",
       "      <th></th>\n",
       "      <th>adsh</th>\n",
       "      <th>tag</th>\n",
       "      <th>data_year</th>\n",
       "      <th>version</th>\n",
       "      <th>coreg</th>\n",
       "      <th>qtrs</th>\n",
       "      <th>uom</th>\n",
       "      <th>value</th>\n",
       "      <th>footnote</th>\n",
       "      <th>cik</th>\n",
       "      <th>name</th>\n",
       "      <th>period_filed</th>\n",
       "      <th>prevrpt</th>\n",
       "      <th>instance</th>\n",
       "    </tr>\n",
       "  </thead>\n",
       "  <tbody>\n",
       "    <tr>\n",
       "      <th>1698</th>\n",
       "      <td>0000004904-22-000024</td>\n",
       "      <td>AssetsCurrent</td>\n",
       "      <td>2021</td>\n",
       "      <td>us-gaap/2021</td>\n",
       "      <td>OhioPowerCo</td>\n",
       "      <td>0</td>\n",
       "      <td>USD</td>\n",
       "      <td>3.275000e+08</td>\n",
       "      <td>None</td>\n",
       "      <td>4904</td>\n",
       "      <td>AMERICAN ELECTRIC POWER CO INC</td>\n",
       "      <td>2021-12-31</td>\n",
       "      <td>False</td>\n",
       "      <td>aep-20211231_htm.xml</td>\n",
       "    </tr>\n",
       "    <tr>\n",
       "      <th>1695</th>\n",
       "      <td>0000004904-22-000024</td>\n",
       "      <td>AssetsCurrent</td>\n",
       "      <td>2021</td>\n",
       "      <td>us-gaap/2021</td>\n",
       "      <td>AEPTransmissionCo</td>\n",
       "      <td>0</td>\n",
       "      <td>USD</td>\n",
       "      <td>3.313000e+08</td>\n",
       "      <td>None</td>\n",
       "      <td>4904</td>\n",
       "      <td>AMERICAN ELECTRIC POWER CO INC</td>\n",
       "      <td>2021-12-31</td>\n",
       "      <td>False</td>\n",
       "      <td>aep-20211231_htm.xml</td>\n",
       "    </tr>\n",
       "    <tr>\n",
       "      <th>1694</th>\n",
       "      <td>0000004904-22-000024</td>\n",
       "      <td>AssetsCurrent</td>\n",
       "      <td>2021</td>\n",
       "      <td>us-gaap/2021</td>\n",
       "      <td>AEPTexasInc.</td>\n",
       "      <td>0</td>\n",
       "      <td>USD</td>\n",
       "      <td>3.472000e+08</td>\n",
       "      <td>None</td>\n",
       "      <td>4904</td>\n",
       "      <td>AMERICAN ELECTRIC POWER CO INC</td>\n",
       "      <td>2021-12-31</td>\n",
       "      <td>False</td>\n",
       "      <td>aep-20211231_htm.xml</td>\n",
       "    </tr>\n",
       "    <tr>\n",
       "      <th>1699</th>\n",
       "      <td>0000004904-22-000024</td>\n",
       "      <td>AssetsCurrent</td>\n",
       "      <td>2021</td>\n",
       "      <td>us-gaap/2021</td>\n",
       "      <td>PublicServiceCoOfOklahoma</td>\n",
       "      <td>0</td>\n",
       "      <td>USD</td>\n",
       "      <td>3.868000e+08</td>\n",
       "      <td>None</td>\n",
       "      <td>4904</td>\n",
       "      <td>AMERICAN ELECTRIC POWER CO INC</td>\n",
       "      <td>2021-12-31</td>\n",
       "      <td>False</td>\n",
       "      <td>aep-20211231_htm.xml</td>\n",
       "    </tr>\n",
       "    <tr>\n",
       "      <th>1697</th>\n",
       "      <td>0000004904-22-000024</td>\n",
       "      <td>AssetsCurrent</td>\n",
       "      <td>2021</td>\n",
       "      <td>us-gaap/2021</td>\n",
       "      <td>IndianaMichiganPowerCo</td>\n",
       "      <td>0</td>\n",
       "      <td>USD</td>\n",
       "      <td>4.394000e+08</td>\n",
       "      <td>None</td>\n",
       "      <td>4904</td>\n",
       "      <td>AMERICAN ELECTRIC POWER CO INC</td>\n",
       "      <td>2021-12-31</td>\n",
       "      <td>False</td>\n",
       "      <td>aep-20211231_htm.xml</td>\n",
       "    </tr>\n",
       "    <tr>\n",
       "      <th>1700</th>\n",
       "      <td>0000004904-22-000024</td>\n",
       "      <td>AssetsCurrent</td>\n",
       "      <td>2021</td>\n",
       "      <td>us-gaap/2021</td>\n",
       "      <td>SouthwesternElectricPowerCo</td>\n",
       "      <td>0</td>\n",
       "      <td>USD</td>\n",
       "      <td>6.685000e+08</td>\n",
       "      <td>None</td>\n",
       "      <td>4904</td>\n",
       "      <td>AMERICAN ELECTRIC POWER CO INC</td>\n",
       "      <td>2021-12-31</td>\n",
       "      <td>False</td>\n",
       "      <td>aep-20211231_htm.xml</td>\n",
       "    </tr>\n",
       "    <tr>\n",
       "      <th>1696</th>\n",
       "      <td>0000004904-22-000024</td>\n",
       "      <td>AssetsCurrent</td>\n",
       "      <td>2021</td>\n",
       "      <td>us-gaap/2021</td>\n",
       "      <td>AppalachianPowerCo</td>\n",
       "      <td>0</td>\n",
       "      <td>USD</td>\n",
       "      <td>9.253000e+08</td>\n",
       "      <td>None</td>\n",
       "      <td>4904</td>\n",
       "      <td>AMERICAN ELECTRIC POWER CO INC</td>\n",
       "      <td>2021-12-31</td>\n",
       "      <td>False</td>\n",
       "      <td>aep-20211231_htm.xml</td>\n",
       "    </tr>\n",
       "    <tr>\n",
       "      <th>1693</th>\n",
       "      <td>0000004904-22-000024</td>\n",
       "      <td>AssetsCurrent</td>\n",
       "      <td>2021</td>\n",
       "      <td>us-gaap/2021</td>\n",
       "      <td>None</td>\n",
       "      <td>0</td>\n",
       "      <td>USD</td>\n",
       "      <td>7.809200e+09</td>\n",
       "      <td>None</td>\n",
       "      <td>4904</td>\n",
       "      <td>AMERICAN ELECTRIC POWER CO INC</td>\n",
       "      <td>2021-12-31</td>\n",
       "      <td>False</td>\n",
       "      <td>aep-20211231_htm.xml</td>\n",
       "    </tr>\n",
       "  </tbody>\n",
       "</table>\n",
       "</div>"
      ],
      "text/plain": [
       "                      adsh            tag data_year       version  \\\n",
       "1698  0000004904-22-000024  AssetsCurrent      2021  us-gaap/2021   \n",
       "1695  0000004904-22-000024  AssetsCurrent      2021  us-gaap/2021   \n",
       "1694  0000004904-22-000024  AssetsCurrent      2021  us-gaap/2021   \n",
       "1699  0000004904-22-000024  AssetsCurrent      2021  us-gaap/2021   \n",
       "1697  0000004904-22-000024  AssetsCurrent      2021  us-gaap/2021   \n",
       "1700  0000004904-22-000024  AssetsCurrent      2021  us-gaap/2021   \n",
       "1696  0000004904-22-000024  AssetsCurrent      2021  us-gaap/2021   \n",
       "1693  0000004904-22-000024  AssetsCurrent      2021  us-gaap/2021   \n",
       "\n",
       "                            coreg qtrs  uom         value footnote   cik  \\\n",
       "1698                  OhioPowerCo    0  USD  3.275000e+08     None  4904   \n",
       "1695            AEPTransmissionCo    0  USD  3.313000e+08     None  4904   \n",
       "1694                 AEPTexasInc.    0  USD  3.472000e+08     None  4904   \n",
       "1699    PublicServiceCoOfOklahoma    0  USD  3.868000e+08     None  4904   \n",
       "1697       IndianaMichiganPowerCo    0  USD  4.394000e+08     None  4904   \n",
       "1700  SouthwesternElectricPowerCo    0  USD  6.685000e+08     None  4904   \n",
       "1696           AppalachianPowerCo    0  USD  9.253000e+08     None  4904   \n",
       "1693                         None    0  USD  7.809200e+09     None  4904   \n",
       "\n",
       "                                name period_filed  prevrpt  \\\n",
       "1698  AMERICAN ELECTRIC POWER CO INC   2021-12-31    False   \n",
       "1695  AMERICAN ELECTRIC POWER CO INC   2021-12-31    False   \n",
       "1694  AMERICAN ELECTRIC POWER CO INC   2021-12-31    False   \n",
       "1699  AMERICAN ELECTRIC POWER CO INC   2021-12-31    False   \n",
       "1697  AMERICAN ELECTRIC POWER CO INC   2021-12-31    False   \n",
       "1700  AMERICAN ELECTRIC POWER CO INC   2021-12-31    False   \n",
       "1696  AMERICAN ELECTRIC POWER CO INC   2021-12-31    False   \n",
       "1693  AMERICAN ELECTRIC POWER CO INC   2021-12-31    False   \n",
       "\n",
       "                  instance  \n",
       "1698  aep-20211231_htm.xml  \n",
       "1695  aep-20211231_htm.xml  \n",
       "1694  aep-20211231_htm.xml  \n",
       "1699  aep-20211231_htm.xml  \n",
       "1697  aep-20211231_htm.xml  \n",
       "1700  aep-20211231_htm.xml  \n",
       "1696  aep-20211231_htm.xml  \n",
       "1693  aep-20211231_htm.xml  "
      ]
     },
     "execution_count": 37,
     "metadata": {},
     "output_type": "execute_result"
    }
   ],
   "source": [
    "data = get_entries(2021, ['AssetsCurrent'])\n",
    "duplicates = data[ data['adsh'].duplicated(keep=False) ]\n",
    "duplicates[ duplicates.cik == '4904'].sort_values('value')"
   ]
  },
  {
   "cell_type": "code",
   "execution_count": 39,
   "id": "c18234d9-b53d-4c34-bbbe-73f93f6641dc",
   "metadata": {},
   "outputs": [
    {
     "data": {
      "text/plain": [
       "5617600000.0"
      ]
     },
     "execution_count": 39,
     "metadata": {},
     "output_type": "execute_result"
    }
   ],
   "source": [
    "duplicates[ duplicates.cik == '4904']['value'].sum()/2"
   ]
  },
  {
   "cell_type": "markdown",
   "id": "9893afb6-fc09-4515-b649-4e68ca9ddbc7",
   "metadata": {},
   "source": [
    "In this case, the whole company has some assets of its own."
   ]
  },
  {
   "cell_type": "code",
   "execution_count": null,
   "id": "a530264a-d7a9-4357-89b4-86d8338aaaa0",
   "metadata": {},
   "outputs": [],
   "source": []
  },
  {
   "cell_type": "markdown",
   "id": "e345b676-4b70-4d4f-8a18-03ae1f03bfa8",
   "metadata": {},
   "source": [
    "### Multiple reports due to an aquisition"
   ]
  },
  {
   "cell_type": "code",
   "execution_count": 17,
   "id": "41b763d1-54fe-4cdf-af6b-f57f7e56cad6",
   "metadata": {},
   "outputs": [
    {
     "data": {
      "text/html": [
       "<div>\n",
       "<style scoped>\n",
       "    .dataframe tbody tr th:only-of-type {\n",
       "        vertical-align: middle;\n",
       "    }\n",
       "\n",
       "    .dataframe tbody tr th {\n",
       "        vertical-align: top;\n",
       "    }\n",
       "\n",
       "    .dataframe thead th {\n",
       "        text-align: right;\n",
       "    }\n",
       "</style>\n",
       "<table border=\"1\" class=\"dataframe\">\n",
       "  <thead>\n",
       "    <tr style=\"text-align: right;\">\n",
       "      <th></th>\n",
       "      <th>adsh</th>\n",
       "      <th>cik</th>\n",
       "      <th>name</th>\n",
       "      <th>sic</th>\n",
       "      <th>countryba</th>\n",
       "      <th>stprba</th>\n",
       "      <th>cityba</th>\n",
       "      <th>zipba</th>\n",
       "      <th>bas1</th>\n",
       "      <th>bas2</th>\n",
       "      <th>...</th>\n",
       "      <th>period</th>\n",
       "      <th>fy</th>\n",
       "      <th>fp</th>\n",
       "      <th>filed</th>\n",
       "      <th>accepted</th>\n",
       "      <th>prevrpt</th>\n",
       "      <th>detail</th>\n",
       "      <th>instance</th>\n",
       "      <th>nciks</th>\n",
       "      <th>aciks</th>\n",
       "    </tr>\n",
       "  </thead>\n",
       "  <tbody>\n",
       "    <tr>\n",
       "      <th>71</th>\n",
       "      <td>0001493152-22-024263</td>\n",
       "      <td>1847846</td>\n",
       "      <td>8I ACQUISITION 2 CORP.</td>\n",
       "      <td>8000</td>\n",
       "      <td>SG</td>\n",
       "      <td>None</td>\n",
       "      <td>SINGAPORE</td>\n",
       "      <td>059817</td>\n",
       "      <td>C/O 6 EU TONG SEN STREET</td>\n",
       "      <td>#08-13 THE CENTRAL</td>\n",
       "      <td>...</td>\n",
       "      <td>20220731</td>\n",
       "      <td>2022</td>\n",
       "      <td>FY</td>\n",
       "      <td>20220829</td>\n",
       "      <td>2022-08-29 14:58:00.0</td>\n",
       "      <td>0</td>\n",
       "      <td>1</td>\n",
       "      <td>form10-k_htm.xml</td>\n",
       "      <td>1</td>\n",
       "      <td>None</td>\n",
       "    </tr>\n",
       "    <tr>\n",
       "      <th>5528</th>\n",
       "      <td>0001493152-23-022805</td>\n",
       "      <td>1847846</td>\n",
       "      <td>EUDA HEALTH HOLDINGS LTD</td>\n",
       "      <td>8000</td>\n",
       "      <td>SG</td>\n",
       "      <td>None</td>\n",
       "      <td>SINGAPORE</td>\n",
       "      <td>059817</td>\n",
       "      <td>C/O 6 EU TONG SEN STREET</td>\n",
       "      <td>#08-13 THE CENTRAL</td>\n",
       "      <td>...</td>\n",
       "      <td>20221231</td>\n",
       "      <td>2022</td>\n",
       "      <td>FY</td>\n",
       "      <td>20230628</td>\n",
       "      <td>2023-06-28 17:16:00.0</td>\n",
       "      <td>0</td>\n",
       "      <td>1</td>\n",
       "      <td>form10-k_htm.xml</td>\n",
       "      <td>1</td>\n",
       "      <td>None</td>\n",
       "    </tr>\n",
       "  </tbody>\n",
       "</table>\n",
       "<p>2 rows × 36 columns</p>\n",
       "</div>"
      ],
      "text/plain": [
       "                      adsh      cik                      name   sic countryba  \\\n",
       "71    0001493152-22-024263  1847846    8I ACQUISITION 2 CORP.  8000        SG   \n",
       "5528  0001493152-23-022805  1847846  EUDA HEALTH HOLDINGS LTD  8000        SG   \n",
       "\n",
       "     stprba     cityba   zipba                      bas1                bas2  \\\n",
       "71     None  SINGAPORE  059817  C/O 6 EU TONG SEN STREET  #08-13 THE CENTRAL   \n",
       "5528   None  SINGAPORE  059817  C/O 6 EU TONG SEN STREET  #08-13 THE CENTRAL   \n",
       "\n",
       "      ...    period    fy  fp     filed               accepted prevrpt detail  \\\n",
       "71    ...  20220731  2022  FY  20220829  2022-08-29 14:58:00.0       0      1   \n",
       "5528  ...  20221231  2022  FY  20230628  2023-06-28 17:16:00.0       0      1   \n",
       "\n",
       "              instance nciks aciks  \n",
       "71    form10-k_htm.xml     1  None  \n",
       "5528  form10-k_htm.xml     1  None  \n",
       "\n",
       "[2 rows x 36 columns]"
      ]
     },
     "execution_count": 17,
     "metadata": {},
     "output_type": "execute_result"
    }
   ],
   "source": [
    "con = sqlite3.connect('data/processed/all10k.db')\n",
    "all_sub_22 = pd.read_sql_query(\"\"\"SELECT * FROM sub WHERE fy='2022';\"\"\", con)\n",
    "\n",
    "all_sub_22[ all_sub_22.duplicated('cik', keep=False) ]"
   ]
  },
  {
   "cell_type": "markdown",
   "id": "cf1e964d-951f-4d90-96ce-bf6d7ecb36f6",
   "metadata": {},
   "source": [
    "These entities have the different names but the same cik"
   ]
  },
  {
   "cell_type": "code",
   "execution_count": 24,
   "id": "fc875532-cf5e-47b3-896b-2017ba1a3f7a",
   "metadata": {},
   "outputs": [
    {
     "data": {
      "text/html": [
       "<div>\n",
       "<style scoped>\n",
       "    .dataframe tbody tr th:only-of-type {\n",
       "        vertical-align: middle;\n",
       "    }\n",
       "\n",
       "    .dataframe tbody tr th {\n",
       "        vertical-align: top;\n",
       "    }\n",
       "\n",
       "    .dataframe thead th {\n",
       "        text-align: right;\n",
       "    }\n",
       "</style>\n",
       "<table border=\"1\" class=\"dataframe\">\n",
       "  <thead>\n",
       "    <tr style=\"text-align: right;\">\n",
       "      <th></th>\n",
       "      <th>adsh</th>\n",
       "      <th>name</th>\n",
       "      <th>stprba</th>\n",
       "      <th>stprma</th>\n",
       "      <th>stprinc</th>\n",
       "      <th>former</th>\n",
       "      <th>changed</th>\n",
       "      <th>fye</th>\n",
       "      <th>period</th>\n",
       "      <th>filed</th>\n",
       "      <th>accepted</th>\n",
       "      <th>aciks</th>\n",
       "    </tr>\n",
       "  </thead>\n",
       "  <tbody>\n",
       "    <tr>\n",
       "      <th>71</th>\n",
       "      <td>0001493152-22-024263</td>\n",
       "      <td>8I ACQUISITION 2 CORP.</td>\n",
       "      <td>None</td>\n",
       "      <td>None</td>\n",
       "      <td>None</td>\n",
       "      <td>None</td>\n",
       "      <td>None</td>\n",
       "      <td>731</td>\n",
       "      <td>20220731</td>\n",
       "      <td>20220829</td>\n",
       "      <td>2022-08-29 14:58:00.0</td>\n",
       "      <td>None</td>\n",
       "    </tr>\n",
       "    <tr>\n",
       "      <th>5528</th>\n",
       "      <td>0001493152-23-022805</td>\n",
       "      <td>EUDA HEALTH HOLDINGS LTD</td>\n",
       "      <td>None</td>\n",
       "      <td>None</td>\n",
       "      <td>None</td>\n",
       "      <td>8I ACQUISITION 2 CORP.</td>\n",
       "      <td>20210224</td>\n",
       "      <td>1231</td>\n",
       "      <td>20221231</td>\n",
       "      <td>20230628</td>\n",
       "      <td>2023-06-28 17:16:00.0</td>\n",
       "      <td>None</td>\n",
       "    </tr>\n",
       "  </tbody>\n",
       "</table>\n",
       "</div>"
      ],
      "text/plain": [
       "                      adsh                      name stprba stprma stprinc  \\\n",
       "71    0001493152-22-024263    8I ACQUISITION 2 CORP.   None   None    None   \n",
       "5528  0001493152-23-022805  EUDA HEALTH HOLDINGS LTD   None   None    None   \n",
       "\n",
       "                      former   changed   fye    period     filed  \\\n",
       "71                      None      None   731  20220731  20220829   \n",
       "5528  8I ACQUISITION 2 CORP.  20210224  1231  20221231  20230628   \n",
       "\n",
       "                   accepted aciks  \n",
       "71    2022-08-29 14:58:00.0  None  \n",
       "5528  2023-06-28 17:16:00.0  None  "
      ]
     },
     "execution_count": 24,
     "metadata": {},
     "output_type": "execute_result"
    }
   ],
   "source": [
    "different = (all_sub_22[ all_sub_22.duplicated('cik', keep=False) ].iloc[0] != all_sub_22[ all_sub_22.duplicated('cik', keep=False) ].iloc[1])\n",
    "\n",
    "all_sub_22[ all_sub_22.duplicated('cik', keep=False) ].loc[:,different]"
   ]
  },
  {
   "cell_type": "markdown",
   "id": "f19f9742-8011-4da2-ba8b-634fbe45065e",
   "metadata": {},
   "source": [
    "Aha! We have a 'former' field that show the aquirer"
   ]
  },
  {
   "cell_type": "code",
   "execution_count": null,
   "id": "0e29dfd0-34df-45db-9caa-8fb3d03cf452",
   "metadata": {},
   "outputs": [],
   "source": []
  },
  {
   "cell_type": "code",
   "execution_count": null,
   "id": "82663ece-4c28-4eee-bef5-836c6bffc895",
   "metadata": {},
   "outputs": [],
   "source": []
  },
  {
   "cell_type": "code",
   "execution_count": null,
   "id": "bc5bec45-ed35-4614-9f25-24fbdf8eefed",
   "metadata": {},
   "outputs": [],
   "source": []
  }
 ],
 "metadata": {
  "kernelspec": {
   "display_name": "Python 3 (ipykernel)",
   "language": "python",
   "name": "python3"
  },
  "language_info": {
   "codemirror_mode": {
    "name": "ipython",
    "version": 3
   },
   "file_extension": ".py",
   "mimetype": "text/x-python",
   "name": "python",
   "nbconvert_exporter": "python",
   "pygments_lexer": "ipython3",
   "version": "3.9.18"
  }
 },
 "nbformat": 4,
 "nbformat_minor": 5
}
